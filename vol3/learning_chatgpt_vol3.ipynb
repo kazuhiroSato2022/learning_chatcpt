{
  "nbformat": 4,
  "nbformat_minor": 0,
  "metadata": {
    "colab": {
      "provenance": []
    },
    "kernelspec": {
      "name": "python3",
      "display_name": "Python 3"
    },
    "language_info": {
      "name": "python"
    }
  },
  "cells": [
    {
      "cell_type": "markdown",
      "source": [
        "# ChatGPTもぐもぐ勉強会第3回\n",
        "毎週水曜19時~20時に、ChatGPTを、API含めて、Google ColabでもOpenAI上でも夕食でも食べながらもぐもぐ勉強できればと思います...！！！  \n",
        "\n"
      ],
      "metadata": {
        "id": "YKgBZdL8gG0m"
      }
    },
    {
      "cell_type": "markdown",
      "source": [
        "##Section0. GPT best practices - OpenAI API\n",
        "[GPT best practices](https://platform.openai.com/docs/guides/gpt-best-practices)  が提唱する戦略は、以下の6つ\n",
        "  \n",
        "\n",
        "*   明確な指示を書く\n",
        "*   参考テキストを提供する\n",
        "*   複雑なタスクをよりシンプルなサブタスクに分割する\n",
        "*   GPTに考える時間を与える\n",
        "*   外部ツールを利用する\n",
        "*   パフォーマンステストを実施する"
      ],
      "metadata": {
        "id": "PHpmnHSYDq_z"
      }
    },
    {
      "cell_type": "markdown",
      "source": [
        "### Section0-1. 明確な指示を書く\n",
        "関連性の高い答えを得るには、ユーザーは文章を入力する際に重要な情報を正しく提供する必要があります。例えば「大統領は誰ですか？」という質問よりも、「2021年のメキシコ大統領は誰ですか？選挙はどのくらいの頻度で行われますか？」という質問の方が、ユーザーの意図が明確にGPTへ伝わります。\n",
        "\n",
        "また、三重引用符やXMLタグなどの区切り文字を使うと、GPTが文字をどのように扱えばいいかが分かりやすくなります。例えば「論文を要約してタイトルを付けてください。タイトル：ここにタイトルを入力、要約：ここに要約を入力」といった質問のように、ユーザーの意図がどこにあり、GPTは答えをどのように出力すればいいのかを教えてあげることが大切。タスクが複雑であればあるほど、明確に指示することが重要になります。\n",
        "\n",
        "加えて、具体的な手順を指定することも役立つとのこと。例えば「ステップ1、ユーザーが三重引用符で囲った文章を提供するので、この文章に『概要：』という接頭辞を付けて一文にまとめてください」「ステップ2、ステップ1の概要をスペイン語に翻訳し、『翻訳：』という接頭辞を付けてください」といった感じの指示です。このほか、「約50語で要約してください」「3つの箇条書きで要約してください」など、具体的な数字を提示して指示するのも有効です"
      ],
      "metadata": {
        "id": "RjCMf2Nn9nei"
      }
    },
    {
      "cell_type": "markdown",
      "source": [
        "### Section0-2. ChatGPT利用時の注意点\n",
        "\n",
        "\n",
        "*   **計算は、不得手**  \n",
        "ChatGPTは大規模言語モデル(LLM)であり、数値計算や論理演算のためのアルゴリズムを内包している、内蔵しているわけではないです。したがって、桁数の大きな四則演算も誤った回答をしますし、ましてや中高校生が学ぶような数学の問題も解くことはできません。\n",
        "*   **論理的な推論が、できない**  \n",
        "ChtaGPTと会話を繰り返していると、論理的な推論を行っているように一見するとみえますが、そうではありません。LLMとしての膨大な文章や言葉から最適と思われる\"つながり\"を組み立てて、あたかも論理的に推論しているかのように振る舞っているだけです。したがって、論理パズルのような質問に、全て答えることはできません。\n",
        "*   **回答が安全、とは限らない**  \n",
        "ChatGPTにおいて、GPT-3.5では犯罪に用いられるような危険な情報も含まれている(※[ウィズセキュア、ChatGPTのサイバー攻撃への悪用の可能性をリサーチ](https://prtimes.jp/main/html/rd/p/000000350.000001340.html))ようです。しかし、プロンプトでその情報を聞いても、ChatGPTは回答しないよう設計されているようです。ただし、プロンプトを工夫することによって、危険な情報を抽出することができてしまうこともあるため、プロンプト作成には十二分に気を付ける必要があります。\n",
        "*   **機密情報を入力、してはいけない**  \n",
        "入力したプロンプトの一部に、他のユーザーへの回答の参考や回答そのものに使われてしまうリスクがあります。もし機密情報を入力してしまうと、ChatGPTの学習データ経由で機密情報が流出してしまう可能性があります。社外秘や個人情報を入力することは危険ですので、十二分に気をつけてください。\n",
        "*   **検索エンジンの代替とは、ならない**  \n",
        "GPT-3.5においては、学習された情報、データが2021年までとなるため最新の情報を訪ねてもChatGPTは回答できません。\n",
        "\n"
      ],
      "metadata": {
        "id": "tyMFZPLXH6fq"
      }
    },
    {
      "cell_type": "markdown",
      "source": [
        "## Section1 計算は、不得手？　ChatGPTで数式を解く"
      ],
      "metadata": {
        "id": "nzOLcGW5Dri7"
      }
    },
    {
      "cell_type": "code",
      "source": [
        "!pip install openai"
      ],
      "metadata": {
        "colab": {
          "base_uri": "https://localhost:8080/"
        },
        "id": "3F8iQofK9P_W",
        "outputId": "b9a4b73f-342a-4c36-c7e3-1b784b17a1fe"
      },
      "execution_count": 1,
      "outputs": [
        {
          "output_type": "stream",
          "name": "stdout",
          "text": [
            "Collecting openai\n",
            "  Downloading openai-0.27.8-py3-none-any.whl (73 kB)\n",
            "\u001b[2K     \u001b[90m━━━━━━━━━━━━━━━━━━━━━━━━━━━━━━━━━━━━━━━━\u001b[0m \u001b[32m73.6/73.6 kB\u001b[0m \u001b[31m1.7 MB/s\u001b[0m eta \u001b[36m0:00:00\u001b[0m\n",
            "\u001b[?25hRequirement already satisfied: requests>=2.20 in /usr/local/lib/python3.10/dist-packages (from openai) (2.31.0)\n",
            "Requirement already satisfied: tqdm in /usr/local/lib/python3.10/dist-packages (from openai) (4.66.1)\n",
            "Requirement already satisfied: aiohttp in /usr/local/lib/python3.10/dist-packages (from openai) (3.8.5)\n",
            "Requirement already satisfied: charset-normalizer<4,>=2 in /usr/local/lib/python3.10/dist-packages (from requests>=2.20->openai) (3.2.0)\n",
            "Requirement already satisfied: idna<4,>=2.5 in /usr/local/lib/python3.10/dist-packages (from requests>=2.20->openai) (3.4)\n",
            "Requirement already satisfied: urllib3<3,>=1.21.1 in /usr/local/lib/python3.10/dist-packages (from requests>=2.20->openai) (2.0.4)\n",
            "Requirement already satisfied: certifi>=2017.4.17 in /usr/local/lib/python3.10/dist-packages (from requests>=2.20->openai) (2023.7.22)\n",
            "Requirement already satisfied: attrs>=17.3.0 in /usr/local/lib/python3.10/dist-packages (from aiohttp->openai) (23.1.0)\n",
            "Requirement already satisfied: multidict<7.0,>=4.5 in /usr/local/lib/python3.10/dist-packages (from aiohttp->openai) (6.0.4)\n",
            "Requirement already satisfied: async-timeout<5.0,>=4.0.0a3 in /usr/local/lib/python3.10/dist-packages (from aiohttp->openai) (4.0.3)\n",
            "Requirement already satisfied: yarl<2.0,>=1.0 in /usr/local/lib/python3.10/dist-packages (from aiohttp->openai) (1.9.2)\n",
            "Requirement already satisfied: frozenlist>=1.1.1 in /usr/local/lib/python3.10/dist-packages (from aiohttp->openai) (1.4.0)\n",
            "Requirement already satisfied: aiosignal>=1.1.2 in /usr/local/lib/python3.10/dist-packages (from aiohttp->openai) (1.3.1)\n",
            "Installing collected packages: openai\n",
            "Successfully installed openai-0.27.8\n"
          ]
        }
      ]
    },
    {
      "cell_type": "markdown",
      "source": [
        "### Section1-0. API KEY を隠す"
      ],
      "metadata": {
        "id": "YGNM2dvRMt_1"
      }
    },
    {
      "cell_type": "code",
      "source": [
        "!pip install apikey"
      ],
      "metadata": {
        "colab": {
          "base_uri": "https://localhost:8080/"
        },
        "id": "mRiZGJFCLCyw",
        "outputId": "b04713f8-dc47-4fb8-dc5f-dc721dbf0ad4"
      },
      "execution_count": 2,
      "outputs": [
        {
          "output_type": "stream",
          "name": "stdout",
          "text": [
            "Collecting apikey\n",
            "  Downloading apikey-0.2.4.tar.gz (6.6 kB)\n",
            "  Preparing metadata (setup.py) ... \u001b[?25l\u001b[?25hdone\n",
            "Building wheels for collected packages: apikey\n",
            "  Building wheel for apikey (setup.py) ... \u001b[?25l\u001b[?25hdone\n",
            "  Created wheel for apikey: filename=apikey-0.2.4-py3-none-any.whl size=6671 sha256=b14377cdf5b700df5c4b5607e611f8a47e5ba1c91dce0152a1ef4b330b5f1793\n",
            "  Stored in directory: /root/.cache/pip/wheels/d0/b2/c9/a4400b26c52c13f16c796d15694407a8c610a3098b9e886651\n",
            "Successfully built apikey\n",
            "Installing collected packages: apikey\n",
            "Successfully installed apikey-0.2.4\n"
          ]
        }
      ]
    },
    {
      "cell_type": "markdown",
      "source": [
        "### Section1-1. 算数"
      ],
      "metadata": {
        "id": "FcmiEFdoMmxT"
      }
    },
    {
      "cell_type": "code",
      "source": [
        "import openai\n",
        "from apikey import APIKEY\n",
        "openai.api_key = APIKEY\n",
        "\n",
        "engine = \"text-davinci-003\""
      ],
      "metadata": {
        "id": "NPYAdd-NInCF"
      },
      "execution_count": 3,
      "outputs": []
    },
    {
      "cell_type": "code",
      "source": [
        "prompt = \"私は蜜柑を10個持っていて、2個食べました。残りの蜜柑の個数はいくつでしょうか？\"\n",
        "answer = openai.Completion.create(\n",
        "    engine=engine,\n",
        "    prompt=prompt,\n",
        "    temperature=0,\n",
        "    max_tokens=300\n",
        ")\n",
        "message = answer.choices[0].text.strip()"
      ],
      "metadata": {
        "id": "CuIa0rwUL4bM"
      },
      "execution_count": null,
      "outputs": []
    },
    {
      "cell_type": "code",
      "source": [
        "print(message)"
      ],
      "metadata": {
        "colab": {
          "base_uri": "https://localhost:8080/"
        },
        "id": "A_zybs8fMiEL",
        "outputId": "ae5a80a4-7de8-46b5-f006-e1ac26478fe3"
      },
      "execution_count": null,
      "outputs": [
        {
          "output_type": "stream",
          "name": "stdout",
          "text": [
            "残りの蜜柑の個数は8個です。\n"
          ]
        }
      ]
    },
    {
      "cell_type": "code",
      "source": [
        "prompt = \"私は蜜柑を10個持っていて、2個食べました。その後、さらに、蜜柑を５個いただきました。残りの蜜柑の個数はいくつでしょうか？\"\n",
        "answer = openai.Completion.create(\n",
        "    engine=engine,\n",
        "    prompt=prompt,\n",
        "    temperature=0,\n",
        "    max_tokens=300\n",
        ")\n",
        "message = answer.choices[0].text.strip()"
      ],
      "metadata": {
        "id": "cN18DjrCM1dp"
      },
      "execution_count": null,
      "outputs": []
    },
    {
      "cell_type": "code",
      "source": [
        "print(message)"
      ],
      "metadata": {
        "colab": {
          "base_uri": "https://localhost:8080/"
        },
        "id": "fhZv9fZONwCO",
        "outputId": "0ee6e4d6-c1cc-4c99-85fb-a8114d19fe2b"
      },
      "execution_count": null,
      "outputs": [
        {
          "output_type": "stream",
          "name": "stdout",
          "text": [
            "13個です。\n"
          ]
        }
      ]
    },
    {
      "cell_type": "code",
      "source": [
        "prompt = \"次の数式を書いて:3かける5ひく4\"\n",
        "answer = openai.Completion.create(\n",
        "    engine=engine,\n",
        "    prompt=prompt,\n",
        "    temperature=0,\n",
        "    max_tokens=300\n",
        ")\n",
        "message = answer.choices[0].text.strip()"
      ],
      "metadata": {
        "id": "QUEXHsMrNyPM"
      },
      "execution_count": null,
      "outputs": []
    },
    {
      "cell_type": "code",
      "source": [
        "print(message)"
      ],
      "metadata": {
        "colab": {
          "base_uri": "https://localhost:8080/"
        },
        "id": "WwOnXBiKN_UH",
        "outputId": "7c8f9c2e-77b5-43e6-8045-d9aa9eee3a3a"
      },
      "execution_count": null,
      "outputs": [
        {
          "output_type": "stream",
          "name": "stdout",
          "text": [
            "3 × 5 - 4 = 11\n"
          ]
        }
      ]
    },
    {
      "cell_type": "code",
      "source": [
        "prompt = \"次の数式を書いて:3かける5ひく22\"\n",
        "answer = openai.Completion.create(\n",
        "    engine=engine,\n",
        "    prompt=prompt,\n",
        "    temperature=0,\n",
        "    max_tokens=300\n",
        ")\n",
        "message = answer.choices[0].text.strip()"
      ],
      "metadata": {
        "id": "zb6ZRUc5OINZ"
      },
      "execution_count": null,
      "outputs": []
    },
    {
      "cell_type": "code",
      "source": [
        "print(message)"
      ],
      "metadata": {
        "colab": {
          "base_uri": "https://localhost:8080/"
        },
        "id": "e2HvLmFEOK56",
        "outputId": "0a34fc15-c1b5-400d-895e-3f90f0c4d529"
      },
      "execution_count": null,
      "outputs": [
        {
          "output_type": "stream",
          "name": "stdout",
          "text": [
            "3 × 5 - 22 = 13\n"
          ]
        }
      ]
    },
    {
      "cell_type": "markdown",
      "source": [
        "マイナスになってしまう計算は、苦手？？"
      ],
      "metadata": {
        "id": "FZN-1Xf-ORhX"
      }
    },
    {
      "cell_type": "markdown",
      "source": [
        "### Section1-2. 中学数学\n"
      ],
      "metadata": {
        "id": "H352oXnOMrEN"
      }
    },
    {
      "cell_type": "code",
      "source": [
        "prompt = \"年率が7%で単利計算すると、10年経つと約何倍になっていますか？\"\n",
        "answer = openai.Completion.create(\n",
        "    engine=engine,\n",
        "    prompt=prompt,\n",
        "    temperature=0,\n",
        "    max_tokens=300\n",
        ")\n",
        "message = answer.choices[0].text.strip()"
      ],
      "metadata": {
        "id": "ph5I4h7iOdgX"
      },
      "execution_count": null,
      "outputs": []
    },
    {
      "cell_type": "code",
      "source": [
        "print(message)"
      ],
      "metadata": {
        "colab": {
          "base_uri": "https://localhost:8080/"
        },
        "id": "izBoJrReOrNg",
        "outputId": "2b65f5c0-a228-4489-82ae-7fc640313240"
      },
      "execution_count": null,
      "outputs": [
        {
          "output_type": "stream",
          "name": "stdout",
          "text": [
            "10年経つと約2.15倍になります。\n"
          ]
        }
      ]
    },
    {
      "cell_type": "code",
      "source": [
        "print(1.07 ** 10)"
      ],
      "metadata": {
        "colab": {
          "base_uri": "https://localhost:8080/"
        },
        "id": "hlxqV80oOzIw",
        "outputId": "8052bde3-1060-4ef9-d754-a6728d774509"
      },
      "execution_count": null,
      "outputs": [
        {
          "output_type": "stream",
          "name": "stdout",
          "text": [
            "1.9671513572895665\n"
          ]
        }
      ]
    },
    {
      "cell_type": "code",
      "source": [
        "# 再挑戦\n",
        "prompt = \"年率が7%で単利計算すると、10年経つと約何倍になっていますか？\"\n",
        "answer = openai.Completion.create(\n",
        "    engine=engine,\n",
        "    prompt=prompt,\n",
        "    temperature=1.1,\n",
        "    max_tokens=300\n",
        ")\n",
        "message = answer.choices[0].text.strip()"
      ],
      "metadata": {
        "id": "jQL2YpQhO3Tj"
      },
      "execution_count": null,
      "outputs": []
    },
    {
      "cell_type": "code",
      "source": [
        "print(message)"
      ],
      "metadata": {
        "colab": {
          "base_uri": "https://localhost:8080/"
        },
        "id": "stuizwZHO-S6",
        "outputId": "53894e9d-6d4a-4b93-a745-c96cb91f7e6a"
      },
      "execution_count": null,
      "outputs": [
        {
          "output_type": "stream",
          "name": "stdout",
          "text": [
            "約2.59倍になっています。\n"
          ]
        }
      ]
    },
    {
      "cell_type": "markdown",
      "source": [
        "アルゴリズムが内容されているわけでなく、LLMなので致し方なし"
      ],
      "metadata": {
        "id": "y5x9gCqLO_Uo"
      }
    },
    {
      "cell_type": "code",
      "source": [
        "prompt = \"階乗計算で5!の２倍は、いくつですか？\"\n",
        "answer = openai.Completion.create(\n",
        "    engine=engine,\n",
        "    prompt=prompt,\n",
        "    temperature=1.2,\n",
        "    max_tokens=300\n",
        ")\n",
        "message = answer.choices[0].text.strip()"
      ],
      "metadata": {
        "id": "6s2gNf9TQA24"
      },
      "execution_count": null,
      "outputs": []
    },
    {
      "cell_type": "code",
      "source": [
        "print(message)"
      ],
      "metadata": {
        "colab": {
          "base_uri": "https://localhost:8080/"
        },
        "id": "bLSCcq50QN0t",
        "outputId": "a951726f-a689-4468-e63c-8d5cb4ed166c"
      },
      "execution_count": null,
      "outputs": [
        {
          "output_type": "stream",
          "name": "stdout",
          "text": [
            "5! = 120なので、2倍なので 240 です\n"
          ]
        }
      ]
    },
    {
      "cell_type": "code",
      "source": [
        "prompt = \"階乗計算で5!の２倍は、いくつですか？\"\n",
        "answer = openai.Completion.create(\n",
        "    engine=engine,\n",
        "    prompt=prompt,\n",
        "    temperature=0.0,\n",
        "    max_tokens=300\n",
        ")\n",
        "message = answer.choices[0].text.strip()"
      ],
      "metadata": {
        "id": "qR0tCDAx-nkm"
      },
      "execution_count": null,
      "outputs": []
    },
    {
      "cell_type": "code",
      "source": [
        "print(message)"
      ],
      "metadata": {
        "colab": {
          "base_uri": "https://localhost:8080/"
        },
        "id": "q9n-7wEa-p9W",
        "outputId": "2af084d2-b3e9-41b2-ac11-39bbe59669ce"
      },
      "execution_count": null,
      "outputs": [
        {
          "output_type": "stream",
          "name": "stdout",
          "text": [
            "5!の２倍は、120となります。\n"
          ]
        }
      ]
    },
    {
      "cell_type": "markdown",
      "source": [
        "### Section1-3. 高校数学"
      ],
      "metadata": {
        "id": "IWpPTb7tQTuX"
      }
    },
    {
      "cell_type": "code",
      "source": [
        "prompt = \"異なった荷物で、5個の荷物から、2個の荷物を選ぶ組み合わせは、何通りありますか？\"\n",
        "answer = openai.Completion.create(\n",
        "    engine=engine,\n",
        "    prompt=prompt,\n",
        "    temperature=1.2,\n",
        "    max_tokens=300\n",
        ")\n",
        "message = answer.choices[0].text.strip()"
      ],
      "metadata": {
        "id": "U19G4SilQYmP"
      },
      "execution_count": null,
      "outputs": []
    },
    {
      "cell_type": "code",
      "source": [
        "print(message)"
      ],
      "metadata": {
        "colab": {
          "base_uri": "https://localhost:8080/"
        },
        "id": "9pbr1-1nQjbI",
        "outputId": "caf5c556-a492-4b23-8e21-c7506c8d01d4"
      },
      "execution_count": null,
      "outputs": [
        {
          "output_type": "stream",
          "name": "stdout",
          "text": [
            "10通りです。(1,2 ,1,3, 1,4, 1,5, 2,3, 2,4, 2,5)\n"
          ]
        }
      ]
    },
    {
      "cell_type": "code",
      "source": [
        "prompt = \"異なった荷物で、5個の荷物から、2個の荷物を選ぶ組み合わせは、何通りありますか？\"\n",
        "answer = openai.Completion.create(\n",
        "    engine=engine,\n",
        "    prompt=prompt,\n",
        "    temperature=0.5,\n",
        "    max_tokens=300\n",
        ")\n",
        "message = answer.choices[0].text.strip()"
      ],
      "metadata": {
        "id": "KsbQpRWC-7JO"
      },
      "execution_count": null,
      "outputs": []
    },
    {
      "cell_type": "code",
      "source": [
        "print(message)"
      ],
      "metadata": {
        "colab": {
          "base_uri": "https://localhost:8080/"
        },
        "id": "xKepX4Yj-7RX",
        "outputId": "9457aa04-6ba7-4802-89b2-b15d8942ec2b"
      },
      "execution_count": null,
      "outputs": [
        {
          "output_type": "stream",
          "name": "stdout",
          "text": [
            "5C2 = 10通り\n"
          ]
        }
      ]
    },
    {
      "cell_type": "code",
      "source": [
        "prompt = \"異なった荷物で5個の荷物から2個の荷物を選ぶ組み合わせは何通りありますか？\"\n",
        "answer = openai.Completion.create(\n",
        "    engine=engine,\n",
        "    prompt=prompt,\n",
        "    temperature=0.5,\n",
        "    max_tokens=300\n",
        ")\n",
        "message = answer.choices[0].text.strip()"
      ],
      "metadata": {
        "id": "36Bbrt_XQvbD"
      },
      "execution_count": null,
      "outputs": []
    },
    {
      "cell_type": "code",
      "source": [
        "print(message)"
      ],
      "metadata": {
        "colab": {
          "base_uri": "https://localhost:8080/"
        },
        "id": "ITt7RN-VQzQV",
        "outputId": "740e1596-916f-4e97-9bfb-7cb629e95d9a"
      },
      "execution_count": null,
      "outputs": [
        {
          "output_type": "stream",
          "name": "stdout",
          "text": [
            "5個の荷物から2個の荷物を選ぶ組み合わせは、10通りあります。\n"
          ]
        }
      ]
    },
    {
      "cell_type": "code",
      "source": [
        "prompt = \"異なった荷物で5個の荷物から2個の荷物を選ぶ組み合わせは何通りありますか？\"\n",
        "answer = openai.Completion.create(\n",
        "    engine=engine,\n",
        "    prompt=prompt,\n",
        "    temperature=0.7,\n",
        "    max_tokens=300\n",
        ")\n",
        "message = answer.choices[0].text.strip()"
      ],
      "metadata": {
        "id": "XUCCoGRi-zt6"
      },
      "execution_count": null,
      "outputs": []
    },
    {
      "cell_type": "code",
      "source": [
        "print(message)"
      ],
      "metadata": {
        "colab": {
          "base_uri": "https://localhost:8080/"
        },
        "id": "XyQAnK1E-zw5",
        "outputId": "b893a474-92e3-4d54-e240-a0a7c338f81c"
      },
      "execution_count": null,
      "outputs": [
        {
          "output_type": "stream",
          "name": "stdout",
          "text": [
            "5個の荷物から2個の荷物を選ぶ組み合わせは、10通りあります。\n"
          ]
        }
      ]
    },
    {
      "cell_type": "markdown",
      "source": [
        "### Section1-4. 大学数学"
      ],
      "metadata": {
        "id": "gEuuxYIKQ6Y5"
      }
    },
    {
      "cell_type": "code",
      "source": [
        "# LaTex で記述する\n",
        "prompt = \"次のLatexの行列の固有値と固有ベクトルを求めて: ¥begin{bmatrix} 0 & 1 ¥¥ 1 & 0¥end{bmatrix}\"\n",
        "answer = openai.Completion.create(\n",
        "    engine=engine,\n",
        "    prompt=prompt,\n",
        "    temperature=1.2,\n",
        "    max_tokens=300\n",
        ")\n",
        "message = answer.choices[0].text.strip()"
      ],
      "metadata": {
        "id": "vx4xXeNQQ1Mq"
      },
      "execution_count": null,
      "outputs": []
    },
    {
      "cell_type": "code",
      "source": [
        "print(message)"
      ],
      "metadata": {
        "colab": {
          "base_uri": "https://localhost:8080/"
        },
        "id": "ZQYynyCrRpEz",
        "outputId": "e32e7031-7650-4fc5-b92a-17f7b3adc256"
      },
      "execution_count": null,
      "outputs": [
        {
          "output_type": "stream",
          "name": "stdout",
          "text": [
            "固有値: ±1\n",
            "\n",
            "固有ベクトル: (1, 1)、(-1, 1)\n"
          ]
        }
      ]
    },
    {
      "cell_type": "code",
      "source": [
        "# 再挑戦\n",
        "prompt = \"次のLatexの行列の固有値と固有ベクトルを求めて: ¥begin{bmatrix} 0 & 1 ¥¥ 1 & 0¥end{bmatrix}\"\n",
        "answer = openai.Completion.create(\n",
        "    engine=engine,\n",
        "    prompt=prompt,\n",
        "    temperature=0.7,\n",
        "    max_tokens=300\n",
        ")\n",
        "message = answer.choices[0].text.strip()"
      ],
      "metadata": {
        "id": "F83LnxkXSLTq"
      },
      "execution_count": null,
      "outputs": []
    },
    {
      "cell_type": "code",
      "source": [
        "print(message)"
      ],
      "metadata": {
        "colab": {
          "base_uri": "https://localhost:8080/"
        },
        "id": "97hTjCr_SOxu",
        "outputId": "a1fd4fb3-2319-4d84-c383-fba2368defee"
      },
      "execution_count": null,
      "outputs": [
        {
          "output_type": "stream",
          "name": "stdout",
          "text": [
            "固有値: ±1\n",
            "\n",
            "固有ベクトル: (1,1) および (1,-1)\n"
          ]
        }
      ]
    },
    {
      "cell_type": "code",
      "source": [
        "# LaTex で記述する\n",
        "prompt = \"次のLatexの行列の行列式を求めて: ¥begin{bmatrix} 0 & 1 ¥¥ 1 & 0¥end{bmatrix}\"\n",
        "answer = openai.Completion.create(\n",
        "    engine=engine,\n",
        "    prompt=prompt,\n",
        "    temperature=0.7,\n",
        "    max_tokens=300\n",
        ")\n",
        "message = answer.choices[0].text.strip()"
      ],
      "metadata": {
        "id": "i29Y6AtKSHlb"
      },
      "execution_count": null,
      "outputs": []
    },
    {
      "cell_type": "code",
      "source": [
        "print(message)"
      ],
      "metadata": {
        "colab": {
          "base_uri": "https://localhost:8080/"
        },
        "id": "hPNkh5NTSZG0",
        "outputId": "9893ff73-6b08-4f6c-b440-3a076fd3bd85"
      },
      "execution_count": null,
      "outputs": [
        {
          "output_type": "stream",
          "name": "stdout",
          "text": [
            "行列式 = -1\n"
          ]
        }
      ]
    },
    {
      "cell_type": "code",
      "source": [
        "# LaTex で記述する\n",
        "prompt = \"次のLatexの行列の行列式を求めて: ¥begin{bmatrix} 0 & 1 ¥¥ 1 & 0¥end{bmatrix}\"\n",
        "answer = openai.Completion.create(\n",
        "    engine=engine,\n",
        "    prompt=prompt,\n",
        "    temperature=1.2,\n",
        "    max_tokens=300\n",
        ")\n",
        "message = answer.choices[0].text.strip()"
      ],
      "metadata": {
        "id": "250uO7PW_IiJ"
      },
      "execution_count": null,
      "outputs": []
    },
    {
      "cell_type": "code",
      "source": [
        "print(message)"
      ],
      "metadata": {
        "colab": {
          "base_uri": "https://localhost:8080/"
        },
        "id": "GMioslJF_Iox",
        "outputId": "47740fe6-8e13-4a6f-dbaa-2491ec638d84"
      },
      "execution_count": null,
      "outputs": [
        {
          "output_type": "stream",
          "name": "stdout",
          "text": [
            "-1\n"
          ]
        }
      ]
    },
    {
      "cell_type": "markdown",
      "source": [
        "正解するし、不正解でもあるし、あんまり期待はしないほうがいい"
      ],
      "metadata": {
        "id": "SVv_sowYSbRi"
      }
    },
    {
      "cell_type": "markdown",
      "source": [
        "## Section2. プログラミング言語の、相互変換"
      ],
      "metadata": {
        "id": "3KxcUr7l_U_9"
      }
    },
    {
      "cell_type": "markdown",
      "source": [
        "### Section2-1. JavaScript -> Python"
      ],
      "metadata": {
        "id": "6PlAsWGi_bjI"
      }
    },
    {
      "cell_type": "code",
      "source": [
        "prompt = \"JavaScript: console.log(\\'dog\\') Python:\"\n",
        "answer = openai.Completion.create(\n",
        "    engine=engine,\n",
        "    prompt=prompt,\n",
        "    temperature=1.2,\n",
        "    max_tokens=300\n",
        ")\n",
        "message = answer.choices[0].text.strip()"
      ],
      "metadata": {
        "id": "jhtb2-Tm_tRq"
      },
      "execution_count": null,
      "outputs": []
    },
    {
      "cell_type": "code",
      "source": [
        "print(message)"
      ],
      "metadata": {
        "colab": {
          "base_uri": "https://localhost:8080/"
        },
        "id": "gtGcZP0zAJTs",
        "outputId": "62924727-9a5e-4b7a-c024-07a1435b0588"
      },
      "execution_count": null,
      "outputs": [
        {
          "output_type": "stream",
          "name": "stdout",
          "text": [
            "print('dog')\n"
          ]
        }
      ]
    },
    {
      "cell_type": "code",
      "source": [
        "prompt = \"JavaScript: console.log(\\'dog\\') Python:\"\n",
        "answer = openai.Completion.create(\n",
        "    engine=engine,\n",
        "    prompt=prompt,\n",
        "    temperature=0.5,\n",
        "    max_tokens=300\n",
        ")\n",
        "message = answer.choices[0].text.strip()"
      ],
      "metadata": {
        "id": "RQBBMzC5AShP"
      },
      "execution_count": null,
      "outputs": []
    },
    {
      "cell_type": "code",
      "source": [
        "print(message)"
      ],
      "metadata": {
        "colab": {
          "base_uri": "https://localhost:8080/"
        },
        "id": "36n_f1_TAS1k",
        "outputId": "f6f97254-9d2a-49a8-df9f-73a686c3cde6"
      },
      "execution_count": null,
      "outputs": [
        {
          "output_type": "stream",
          "name": "stdout",
          "text": [
            "print('dog')\n"
          ]
        }
      ]
    },
    {
      "cell_type": "code",
      "source": [
        "%%javascript\n",
        "for (let i = 0; i < 10; i++)\n",
        "{ console.log(i); }"
      ],
      "metadata": {
        "colab": {
          "base_uri": "https://localhost:8080/",
          "height": 17
        },
        "id": "HocaMhzNhwJS",
        "outputId": "4c7c8be0-034e-4d28-b6e4-5f55762b9ec8"
      },
      "execution_count": 9,
      "outputs": [
        {
          "output_type": "display_data",
          "data": {
            "text/plain": [
              "<IPython.core.display.Javascript object>"
            ],
            "application/javascript": [
              "for (let i = 0; i < 10; i++)\n",
              "{ console.log(i); }\n"
            ]
          },
          "metadata": {}
        }
      ]
    },
    {
      "cell_type": "code",
      "source": [
        "prompt = \"JavaScript: for (let i = 0; i < 10; i++) { console.log(i); } Python:\"\n",
        "answer = openai.Completion.create(\n",
        "    engine=engine,\n",
        "    prompt=prompt,\n",
        "    temperature=1.2,\n",
        "    max_tokens=300\n",
        ")\n",
        "message = answer.choices[0].text.strip()"
      ],
      "metadata": {
        "id": "ZbiGe1NFjf5f"
      },
      "execution_count": 10,
      "outputs": []
    },
    {
      "cell_type": "code",
      "source": [
        "print(message)"
      ],
      "metadata": {
        "colab": {
          "base_uri": "https://localhost:8080/"
        },
        "id": "XtqNZJnUji1b",
        "outputId": "d18485fc-0bc5-4c0b-d74a-1977be39ecc7"
      },
      "execution_count": 11,
      "outputs": [
        {
          "output_type": "stream",
          "name": "stdout",
          "text": [
            "for i in range(10): print(i)\n"
          ]
        }
      ]
    },
    {
      "cell_type": "code",
      "source": [
        "prompt = \"JavaScript: for (let i = 0; i < 10; i++) { console.log(i); } Python:\"\n",
        "answer = openai.Completion.create(\n",
        "    engine=engine,\n",
        "    prompt=prompt,\n",
        "    temperature=0.5,\n",
        "    max_tokens=300\n",
        ")\n",
        "message = answer.choices[0].text.strip()"
      ],
      "metadata": {
        "id": "vzlay6VYAWdY"
      },
      "execution_count": 4,
      "outputs": []
    },
    {
      "cell_type": "code",
      "source": [
        "print(message)"
      ],
      "metadata": {
        "id": "xqplCPuCAWkg",
        "colab": {
          "base_uri": "https://localhost:8080/"
        },
        "outputId": "4d064345-7d7a-42af-f112-ad2c55694b16"
      },
      "execution_count": 5,
      "outputs": [
        {
          "output_type": "stream",
          "name": "stdout",
          "text": [
            "for i in range(10): print(i)\n"
          ]
        }
      ]
    },
    {
      "cell_type": "code",
      "source": [
        "for i in range(10):\n",
        "  print(i)"
      ],
      "metadata": {
        "colab": {
          "base_uri": "https://localhost:8080/"
        },
        "id": "XGBX3W4vhk_8",
        "outputId": "61ac5caa-080a-4676-9027-962d3a49b2f9"
      },
      "execution_count": 6,
      "outputs": [
        {
          "output_type": "stream",
          "name": "stdout",
          "text": [
            "0\n",
            "1\n",
            "2\n",
            "3\n",
            "4\n",
            "5\n",
            "6\n",
            "7\n",
            "8\n",
            "9\n"
          ]
        }
      ]
    },
    {
      "cell_type": "markdown",
      "source": [
        "### Section2-2. JavaScript -> Java"
      ],
      "metadata": {
        "id": "sEFPIDMJi7wA"
      }
    },
    {
      "cell_type": "code",
      "source": [
        "prompt = \"JavaScript: console.log(\\'dog\\') Java:\"\n",
        "answer = openai.Completion.create(\n",
        "    engine=engine,\n",
        "    prompt=prompt,\n",
        "    temperature=1.2,\n",
        "    max_tokens=300\n",
        ")\n",
        "message = answer.choices[0].text.strip()"
      ],
      "metadata": {
        "id": "z71bWFaNhoTz"
      },
      "execution_count": 12,
      "outputs": []
    },
    {
      "cell_type": "code",
      "source": [
        "print(message)"
      ],
      "metadata": {
        "colab": {
          "base_uri": "https://localhost:8080/"
        },
        "id": "S_lAV1rDjv9e",
        "outputId": "1a3f985c-1e1a-4f1e-c4f7-b1602ef99080"
      },
      "execution_count": 13,
      "outputs": [
        {
          "output_type": "stream",
          "name": "stdout",
          "text": [
            "System.out.println(\"dog\");\n"
          ]
        }
      ]
    },
    {
      "cell_type": "code",
      "source": [
        "prompt = \"JavaScript: console.log(\\'dog\\') Java:\"\n",
        "answer = openai.Completion.create(\n",
        "    engine=engine,\n",
        "    prompt=prompt,\n",
        "    temperature=0.5,\n",
        "    max_tokens=300\n",
        ")\n",
        "message = answer.choices[0].text.strip()"
      ],
      "metadata": {
        "id": "WVXPU1tYjyjy"
      },
      "execution_count": 14,
      "outputs": []
    },
    {
      "cell_type": "code",
      "source": [
        "print(message)"
      ],
      "metadata": {
        "colab": {
          "base_uri": "https://localhost:8080/"
        },
        "id": "JOllerWrjyt2",
        "outputId": "b7a2d634-4c4a-46e5-81c1-081fc0a0b4f4"
      },
      "execution_count": 15,
      "outputs": [
        {
          "output_type": "stream",
          "name": "stdout",
          "text": [
            "System.out.println(\"dog\");\n"
          ]
        }
      ]
    },
    {
      "cell_type": "code",
      "source": [
        "prompt = \"JavaScript: for (let i = 0; i < 10; i++) { console.log(i); } Java:\"\n",
        "answer = openai.Completion.create(\n",
        "    engine=engine,\n",
        "    prompt=prompt,\n",
        "    temperature=1.2,\n",
        "    max_tokens=300\n",
        ")\n",
        "message = answer.choices[0].text.strip()"
      ],
      "metadata": {
        "id": "zPWC9TLjj3_k"
      },
      "execution_count": 16,
      "outputs": []
    },
    {
      "cell_type": "code",
      "source": [
        "print(message)"
      ],
      "metadata": {
        "colab": {
          "base_uri": "https://localhost:8080/"
        },
        "id": "UPyj_QEmj4HZ",
        "outputId": "89286bc8-e59c-4ca1-e3af-46df708ab715"
      },
      "execution_count": 17,
      "outputs": [
        {
          "output_type": "stream",
          "name": "stdout",
          "text": [
            "for (int i = 0; i < 10; i++) {\n",
            "    System.out.println(i);\n",
            "}\n"
          ]
        }
      ]
    },
    {
      "cell_type": "code",
      "source": [
        "prompt = \"JavaScript: for (let i = 0; i < 10; i++) { console.log(i); } Java:\"\n",
        "answer = openai.Completion.create(\n",
        "    engine=engine,\n",
        "    prompt=prompt,\n",
        "    temperature=0.5,\n",
        "    max_tokens=300\n",
        ")\n",
        "message = answer.choices[0].text.strip()"
      ],
      "metadata": {
        "id": "NacbT6Z8ktof"
      },
      "execution_count": 18,
      "outputs": []
    },
    {
      "cell_type": "code",
      "source": [
        "print(message)"
      ],
      "metadata": {
        "colab": {
          "base_uri": "https://localhost:8080/"
        },
        "id": "FxNZZjKNkwIJ",
        "outputId": "ef903655-8343-432b-b0f5-8c919c2fae74"
      },
      "execution_count": 19,
      "outputs": [
        {
          "output_type": "stream",
          "name": "stdout",
          "text": [
            "for(int i = 0; i < 10; i++) { System.out.println(i); }\n"
          ]
        }
      ]
    },
    {
      "cell_type": "markdown",
      "source": [
        "### Section2-3. プログラムの説明"
      ],
      "metadata": {
        "id": "Qyjh-Gdik1Y_"
      }
    },
    {
      "cell_type": "code",
      "source": [
        "prompt = \"JavaScript: for (let i = 1; i <= 5; i++) { const randt = Math.floor(Math.random() * c.length) r.push(c[randt]) } このコードを説明して: \"\n",
        "answer = openai.Completion.create(\n",
        "    engine=engine,\n",
        "    prompt=prompt,\n",
        "    temperature=1.2,\n",
        "    max_tokens=300\n",
        ")\n",
        "message = answer.choices[0].text.strip()"
      ],
      "metadata": {
        "id": "tzNvihjelCOt"
      },
      "execution_count": 26,
      "outputs": []
    },
    {
      "cell_type": "code",
      "source": [
        "print(message)"
      ],
      "metadata": {
        "colab": {
          "base_uri": "https://localhost:8080/"
        },
        "id": "4ytV0WWFmhpf",
        "outputId": "8f9f657a-2900-4d1c-8bca-f337aefe8a4f"
      },
      "execution_count": 27,
      "outputs": [
        {
          "output_type": "stream",
          "name": "stdout",
          "text": [
            "このコードは、配列「c」内の要素からランダムに選択して、別の配列「r」にプッシュするものです。 「for」ステートメントを使うと、繰り返されるブロックを作成できます。ここでは、'i'変数を使って、1～5までの繰り返しを設定しています。 「Math.floor」を使って、小数の値を整数に丸める関数を作成し、「Math.random」で乱数を取得し、c配列内の要素をランダムに選択、その値を「r」の配列にプッシュし、最後に「r」配列を作成します。\n"
          ]
        }
      ]
    },
    {
      "cell_type": "code",
      "source": [
        "prompt = \"JavaScript: for (let i = 1; i <= 5; i++) { const randt = Math.floor(Math.random() * c.length) r.push(c[randt]) } このコードを説明して: \"\n",
        "answer = openai.Completion.create(\n",
        "    engine=engine,\n",
        "    prompt=prompt,\n",
        "    temperature=0.5,\n",
        "    max_tokens=300\n",
        ")\n",
        "message = answer.choices[0].text.strip()"
      ],
      "metadata": {
        "id": "_xee0hVgnBE9"
      },
      "execution_count": 28,
      "outputs": []
    },
    {
      "cell_type": "code",
      "source": [
        "print(message)"
      ],
      "metadata": {
        "colab": {
          "base_uri": "https://localhost:8080/"
        },
        "id": "EV6i31jEnEIM",
        "outputId": "e461882d-9e54-40ec-bd17-8a68f6d19c53"
      },
      "execution_count": 29,
      "outputs": [
        {
          "output_type": "stream",
          "name": "stdout",
          "text": [
            "このコードは、配列cからランダムな要素を取り出し、配列rに追加するためのループを実行します。ループは、変数iが1から5まで増加するまで繰り返されます。そして、それぞれのループで、Math.random()を使用してランダムな数値を生成し、Math.floor()を使用してそれを整数に変換します。そして、その整数をc配列のインデックスとして使用して、c配列から要素を取り出します。最後に、取り出した要素をr配列に追加します。\n"
          ]
        }
      ]
    },
    {
      "cell_type": "markdown",
      "source": [
        "## Section3. テキスト補完で数式処理を行ってみる"
      ],
      "metadata": {
        "id": "oT61DxmQnRTG"
      }
    },
    {
      "cell_type": "markdown",
      "source": [
        "### Section3-1. 連立方程式を解かせる"
      ],
      "metadata": {
        "id": "GM3JNabone0K"
      }
    },
    {
      "cell_type": "code",
      "source": [
        "prompt = \"つぎの連立方程式を解いてください: x+y=5, 2*x+4*y=14\"\n",
        "answer = openai.Completion.create(\n",
        "    engine=engine,\n",
        "    prompt=prompt,\n",
        "    temperature=1.2,\n",
        "    max_tokens=300\n",
        ")\n",
        "message = answer.choices[0].text.strip()"
      ],
      "metadata": {
        "id": "PP8RizaMnkG5"
      },
      "execution_count": 31,
      "outputs": []
    },
    {
      "cell_type": "code",
      "source": [
        "print(message)"
      ],
      "metadata": {
        "colab": {
          "base_uri": "https://localhost:8080/"
        },
        "id": "pHOWoiwan4s2",
        "outputId": "86c035be-2628-4045-d515-3dd6f32fe21e"
      },
      "execution_count": 32,
      "outputs": [
        {
          "output_type": "stream",
          "name": "stdout",
          "text": [
            "x = 3, y = 2\n"
          ]
        }
      ]
    },
    {
      "cell_type": "code",
      "source": [
        "from numpy.linalg import solve\n",
        "\n",
        "left = [[1, 1],\n",
        "        [2, 4]]\n",
        "\n",
        "right = [5, 14]\n",
        "\n",
        "print(solve(left, right))"
      ],
      "metadata": {
        "colab": {
          "base_uri": "https://localhost:8080/"
        },
        "id": "SuOBAlTnoIDf",
        "outputId": "b73ba414-daad-4f5e-a625-b67efc799178"
      },
      "execution_count": 33,
      "outputs": [
        {
          "output_type": "stream",
          "name": "stdout",
          "text": [
            "[3. 2.]\n"
          ]
        }
      ]
    },
    {
      "cell_type": "code",
      "source": [
        "prompt = \"つぎの連立方程式を解いて下さい。 x+y=5, 2*x+4*y=14\"\n",
        "answer = openai.Completion.create(\n",
        "    engine=engine,\n",
        "    prompt=prompt,\n",
        "    temperature=0.5,\n",
        "    max_tokens=300\n",
        ")\n",
        "message = answer.choices[0].text.strip()"
      ],
      "metadata": {
        "id": "BLTQd3i-n83o"
      },
      "execution_count": 50,
      "outputs": []
    },
    {
      "cell_type": "code",
      "source": [
        "print(message)"
      ],
      "metadata": {
        "colab": {
          "base_uri": "https://localhost:8080/"
        },
        "id": "jPVyo7TboXFM",
        "outputId": "08eee8ee-231d-4e81-951f-411474efb80b"
      },
      "execution_count": 51,
      "outputs": [
        {
          "output_type": "stream",
          "name": "stdout",
          "text": [
            "x=3, y=2\n"
          ]
        }
      ]
    },
    {
      "cell_type": "markdown",
      "source": [
        "### Section3-2. ２次方程式を解かせる"
      ],
      "metadata": {
        "id": "uzZKwddIonpM"
      }
    },
    {
      "cell_type": "code",
      "source": [
        "prompt = \"つぎの２次方程式を解いて下さい。 x**2-5*x+6=0\"\n",
        "answer = openai.Completion.create(\n",
        "    engine=engine,\n",
        "    prompt=prompt,\n",
        "    temperature=1.2,\n",
        "    max_tokens=300\n",
        ")\n",
        "message = answer.choices[0].text.strip()"
      ],
      "metadata": {
        "id": "8xnUWLgZovOh"
      },
      "execution_count": 48,
      "outputs": []
    },
    {
      "cell_type": "code",
      "source": [
        "print(message)"
      ],
      "metadata": {
        "colab": {
          "base_uri": "https://localhost:8080/"
        },
        "id": "bu1iuvUzo9g8",
        "outputId": "34bd3055-e379-4f1b-9a82-cbf1006ccb7f"
      },
      "execution_count": 49,
      "outputs": [
        {
          "output_type": "stream",
          "name": "stdout",
          "text": [
            "(x-3)(x-2)=0\n",
            "\n",
            "よって x=3, x=2である。\n"
          ]
        }
      ]
    },
    {
      "cell_type": "code",
      "source": [
        "# solving a quadratic equation\n",
        "\n",
        "def solv_quadratic_equation(a, b, c):\n",
        "    \"\"\" 2次方程式を解く  \"\"\"\n",
        "    D = (b**2 - 4*a*c) ** (1/2)\n",
        "    x_1 = (-b + D) / (2 * a)\n",
        "    x_2 = (-b - D) / (2 * a)\n",
        "\n",
        "    return x_1, x_2\n",
        "\n",
        "a = 1\n",
        "b = -5\n",
        "c = 6\n",
        "\n",
        "x1, x2 = solv_quadratic_equation(float(a) , float(b) , float(c))"
      ],
      "metadata": {
        "id": "rT7OOdvgpJZs"
      },
      "execution_count": 56,
      "outputs": []
    },
    {
      "cell_type": "code",
      "source": [
        "x1, x2"
      ],
      "metadata": {
        "colab": {
          "base_uri": "https://localhost:8080/"
        },
        "id": "N9tGKKgrphMM",
        "outputId": "57ef320c-a3a7-4c6a-82e9-d5b8836e8dad"
      },
      "execution_count": 57,
      "outputs": [
        {
          "output_type": "execute_result",
          "data": {
            "text/plain": [
              "(3.0, 2.0)"
            ]
          },
          "metadata": {},
          "execution_count": 57
        }
      ]
    },
    {
      "cell_type": "code",
      "source": [
        "prompt = \"つぎの２次方程式を解いて下さい。 x**2-5*x+6=0\"\n",
        "answer = openai.Completion.create(\n",
        "    engine=engine,\n",
        "    prompt=prompt,\n",
        "    temperature=0.7,\n",
        "    max_tokens=300\n",
        ")\n",
        "message = answer.choices[0].text.strip()"
      ],
      "metadata": {
        "id": "ZHIkOWrAp0GR"
      },
      "execution_count": 64,
      "outputs": []
    },
    {
      "cell_type": "code",
      "source": [
        "print(message)"
      ],
      "metadata": {
        "colab": {
          "base_uri": "https://localhost:8080/"
        },
        "id": "KGepn261p3jy",
        "outputId": "b3945a39-4c32-4d19-a278-3c1b11358529"
      },
      "execution_count": 65,
      "outputs": [
        {
          "output_type": "stream",
          "name": "stdout",
          "text": [
            "x = 1, 3\n"
          ]
        }
      ]
    },
    {
      "cell_type": "code",
      "source": [
        "prompt = \"つぎの２次式を因数分解して下さい。 x**2-5*x+6=0\"\n",
        "answer = openai.Completion.create(\n",
        "    engine=engine,\n",
        "    prompt=prompt,\n",
        "    temperature=0.7,\n",
        "    max_tokens=300\n",
        ")\n",
        "message = answer.choices[0].text.strip()"
      ],
      "metadata": {
        "id": "w7CmVA4rqHjr"
      },
      "execution_count": 66,
      "outputs": []
    },
    {
      "cell_type": "code",
      "source": [
        "print(message)"
      ],
      "metadata": {
        "colab": {
          "base_uri": "https://localhost:8080/"
        },
        "id": "JX8-wchRqNkN",
        "outputId": "df9d3d61-89b8-420c-9204-7a19cfb7efc7"
      },
      "execution_count": 67,
      "outputs": [
        {
          "output_type": "stream",
          "name": "stdout",
          "text": [
            "(x-3)(x-2)=0\n"
          ]
        }
      ]
    },
    {
      "cell_type": "code",
      "source": [
        "prompt = \"つぎの２次式を因数分解して下さい。 x**2-5*x+6=0\"\n",
        "answer = openai.Completion.create(\n",
        "    engine=engine,\n",
        "    prompt=prompt,\n",
        "    temperature=1.2,\n",
        "    max_tokens=300\n",
        ")\n",
        "message = answer.choices[0].text.strip()"
      ],
      "metadata": {
        "id": "gamSoq5HqP5U"
      },
      "execution_count": 68,
      "outputs": []
    },
    {
      "cell_type": "code",
      "source": [
        "print(message)"
      ],
      "metadata": {
        "colab": {
          "base_uri": "https://localhost:8080/"
        },
        "id": "91iVivFGqS9Z",
        "outputId": "da7744e1-6068-4b99-9ea7-5e11751e47a9"
      },
      "execution_count": 69,
      "outputs": [
        {
          "output_type": "stream",
          "name": "stdout",
          "text": [
            "(x-3)(x-2)=0\n",
            "\n",
            "ただし、**はべき乗を表します。\n"
          ]
        }
      ]
    },
    {
      "cell_type": "code",
      "source": [
        "prompt = \"つぎの２次式の因数分解を優しく説明して下さい。 x**2-5*x+6=0\"\n",
        "answer = openai.Completion.create(\n",
        "    engine=engine,\n",
        "    prompt=prompt,\n",
        "    temperature=0.7,\n",
        "    max_tokens=300\n",
        ")\n",
        "message = answer.choices[0].text.strip()"
      ],
      "metadata": {
        "id": "CwxPw7svqW6i"
      },
      "execution_count": 72,
      "outputs": []
    },
    {
      "cell_type": "code",
      "source": [
        "print(message)"
      ],
      "metadata": {
        "colab": {
          "base_uri": "https://localhost:8080/"
        },
        "id": "VqZyWDNLqe2y",
        "outputId": "b9058f1d-78e5-409e-9780-b1612a62333f"
      },
      "execution_count": 71,
      "outputs": [
        {
          "output_type": "stream",
          "name": "stdout",
          "text": [
            "(x-3)(x-2)=(x-3)x-(3)2=x**2-(3)x+(-2)x=(x**2-3*x-2*x)+(3*x-2*2)=x**2-5*x+6 ※(x-3)(x-2)=x**2-x*3-2*x+3*2 の解法です。 この問題の解決の手順を以下に簡単に説明します。 １．まず，右辺を０にします． x**2 - 5x + 6 = 0 ２．次に，因数分解することをして、以下の式が得られます． (x - 3)(x - 2) ３．因子それぞれの積らしき形に整理しなおし、.（積 x2とxをきり）x**2-3xと-2x掛けあ\n"
          ]
        }
      ]
    },
    {
      "cell_type": "markdown",
      "source": [
        "### Section3-3. 3次関数の微分を求めさせる"
      ],
      "metadata": {
        "id": "GSGKfo9YqCXK"
      }
    },
    {
      "cell_type": "code",
      "source": [
        "prompt = \"つぎの微分を解いて下さい。 y=x**3+2\"\n",
        "answer = openai.Completion.create(\n",
        "    engine=engine,\n",
        "    prompt=prompt,\n",
        "    temperature=0.7,\n",
        "    max_tokens=300\n",
        ")\n",
        "message = answer.choices[0].text.strip()"
      ],
      "metadata": {
        "id": "DVWswjTrqBJ_"
      },
      "execution_count": 73,
      "outputs": []
    },
    {
      "cell_type": "code",
      "source": [
        "print(message)"
      ],
      "metadata": {
        "colab": {
          "base_uri": "https://localhost:8080/"
        },
        "id": "m5Mf5ckKqBUz",
        "outputId": "d9c6fbda-2e1c-438e-c823-377a05ecc493"
      },
      "execution_count": 74,
      "outputs": [
        {
          "output_type": "stream",
          "name": "stdout",
          "text": [
            "*x**2+3*x+4\n",
            "\n",
            "y'=3x^2+4x+3\n"
          ]
        }
      ]
    },
    {
      "cell_type": "code",
      "source": [
        "prompt = \"つぎの微分を解いて下さい。 y=x**3+2\"\n",
        "answer = openai.Completion.create(\n",
        "    engine=engine,\n",
        "    prompt=prompt,\n",
        "    temperature=1.2,\n",
        "    max_tokens=300\n",
        ")\n",
        "message = answer.choices[0].text.strip()"
      ],
      "metadata": {
        "id": "H-k54Up6qBXx"
      },
      "execution_count": 75,
      "outputs": []
    },
    {
      "cell_type": "code",
      "source": [
        "print(message)"
      ],
      "metadata": {
        "colab": {
          "base_uri": "https://localhost:8080/"
        },
        "id": "DslFV7t3sEWg",
        "outputId": "dcd59d39-192c-4f19-9d9a-7b22de997232"
      },
      "execution_count": 76,
      "outputs": [
        {
          "output_type": "stream",
          "name": "stdout",
          "text": [
            "∂y/∂x \n",
            "3x**2\n"
          ]
        }
      ]
    },
    {
      "cell_type": "code",
      "source": [
        "prompt = \"つぎの微分を求めて下さい。 y=x**3+2\"\n",
        "answer = openai.Completion.create(\n",
        "    engine=engine,\n",
        "    prompt=prompt,\n",
        "    temperature=0.7,\n",
        "    max_tokens=300\n",
        ")\n",
        "message = answer.choices[0].text.strip()"
      ],
      "metadata": {
        "id": "u4WiCfIQsHPN"
      },
      "execution_count": 77,
      "outputs": []
    },
    {
      "cell_type": "code",
      "source": [
        "print(message)"
      ],
      "metadata": {
        "colab": {
          "base_uri": "https://localhost:8080/"
        },
        "id": "-LDKSQDasOU5",
        "outputId": "77bb9ec1-aba4-48f2-d912-7de7f752e5e8"
      },
      "execution_count": 78,
      "outputs": [
        {
          "output_type": "stream",
          "name": "stdout",
          "text": [
            "*x**2+3*x+4\n",
            "\n",
            "y'=3*x**2+4*x+3\n"
          ]
        }
      ]
    },
    {
      "cell_type": "code",
      "source": [
        "prompt = \"つぎの微分を求めて下さい。 y=x**3+2\"\n",
        "answer = openai.Completion.create(\n",
        "    engine=engine,\n",
        "    prompt=prompt,\n",
        "    temperature=1,\n",
        "    max_tokens=300\n",
        ")\n",
        "message = answer.choices[0].text.strip()"
      ],
      "metadata": {
        "id": "0Svm0-9OsmdK"
      },
      "execution_count": 83,
      "outputs": []
    },
    {
      "cell_type": "code",
      "source": [
        "print(message)"
      ],
      "metadata": {
        "colab": {
          "base_uri": "https://localhost:8080/"
        },
        "id": "pUAeXWs9soC8",
        "outputId": "1bb5eb6f-c9de-4290-ffe2-c780c00e56d1"
      },
      "execution_count": 84,
      "outputs": [
        {
          "output_type": "stream",
          "name": "stdout",
          "text": [
            "dy/dx = 3x**2\n"
          ]
        }
      ]
    },
    {
      "cell_type": "markdown",
      "source": [
        "### Section3-4. 微分方程式を解かせてみる"
      ],
      "metadata": {
        "id": "HHme1OlhsUDd"
      }
    },
    {
      "cell_type": "code",
      "source": [
        "prompt = \"つぎの微分方程式を解いて下さい。 x' = 3t**2 + 4\"\n",
        "answer = openai.Completion.create(\n",
        "    engine=engine,\n",
        "    prompt=prompt,\n",
        "    temperature=1,\n",
        "    max_tokens=300\n",
        ")\n",
        "message = answer.choices[0].text.strip()"
      ],
      "metadata": {
        "id": "PzRZfvb0silF"
      },
      "execution_count": 86,
      "outputs": []
    },
    {
      "cell_type": "code",
      "source": [
        "print(message)"
      ],
      "metadata": {
        "colab": {
          "base_uri": "https://localhost:8080/"
        },
        "id": "rPRAVi48s4KD",
        "outputId": "3567bfe0-ba35-4bf1-c9f2-9eeda683549b"
      },
      "execution_count": 87,
      "outputs": [
        {
          "output_type": "stream",
          "name": "stdout",
          "text": [
            "解：x = t**3 + 4t + C\n"
          ]
        }
      ]
    },
    {
      "cell_type": "code",
      "source": [
        "prompt = \"つぎの微分方程式を解いて下さい。 x' = 3t**2 + 4\"\n",
        "answer = openai.Completion.create(\n",
        "    engine=engine,\n",
        "    prompt=prompt,\n",
        "    temperature=0.5,\n",
        "    max_tokens=300\n",
        ")\n",
        "message = answer.choices[0].text.strip()"
      ],
      "metadata": {
        "id": "DN_-G7FxtAlC"
      },
      "execution_count": 88,
      "outputs": []
    },
    {
      "cell_type": "code",
      "source": [
        "print(message)"
      ],
      "metadata": {
        "colab": {
          "base_uri": "https://localhost:8080/"
        },
        "id": "183aotPNtFBF",
        "outputId": "7569c27e-269d-4721-88ae-e389086e8540"
      },
      "execution_count": 89,
      "outputs": [
        {
          "output_type": "stream",
          "name": "stdout",
          "text": [
            "解：x = t**3 + 4t + c\n"
          ]
        }
      ]
    },
    {
      "cell_type": "code",
      "source": [
        "prompt = \"つぎの微分方程式を解いて下さい。 x' = 3t**2 + 4\"\n",
        "answer = openai.Completion.create(\n",
        "    engine=engine,\n",
        "    prompt=prompt,\n",
        "    temperature=1.2,\n",
        "    max_tokens=300\n",
        ")\n",
        "message = answer.choices[0].text.strip()"
      ],
      "metadata": {
        "id": "6f7v3tEptHL9"
      },
      "execution_count": 90,
      "outputs": []
    },
    {
      "cell_type": "code",
      "source": [
        "print(message)"
      ],
      "metadata": {
        "colab": {
          "base_uri": "https://localhost:8080/"
        },
        "id": "Bh1J_uV8tHOY",
        "outputId": "0e641a8c-29d4-4c65-9ce8-8878538566d2"
      },
      "execution_count": 91,
      "outputs": [
        {
          "output_type": "stream",
          "name": "stdout",
          "text": [
            "解：\n",
            "x = t**3 + 4t + C\n"
          ]
        }
      ]
    },
    {
      "cell_type": "code",
      "source": [
        "prompt = \"初期条件y(0)=4の時、つぎの微分方程式を解いて下さい。 dy/dt=-gy\"\n",
        "answer = openai.Completion.create(\n",
        "    engine=engine,\n",
        "    prompt=prompt,\n",
        "    temperature=1.0,\n",
        "    max_tokens=300\n",
        ")\n",
        "message = answer.choices[0].text.strip()"
      ],
      "metadata": {
        "id": "TUPGGTuLtOHV"
      },
      "execution_count": 92,
      "outputs": []
    },
    {
      "cell_type": "code",
      "source": [
        "print(message)"
      ],
      "metadata": {
        "colab": {
          "base_uri": "https://localhost:8080/"
        },
        "id": "oMV6axjltOJZ",
        "outputId": "4530c1ef-3747-4e26-c470-bb9780cd90d6"
      },
      "execution_count": 93,
      "outputs": [
        {
          "output_type": "stream",
          "name": "stdout",
          "text": [
            "y(t)=4e^(-gt)\n"
          ]
        }
      ]
    },
    {
      "cell_type": "code",
      "source": [
        "prompt = \"つぎの微分方程式を解いて下さい。 y' - 2*y = exp(3*x)\"\n",
        "answer = openai.Completion.create(\n",
        "    engine=engine,\n",
        "    prompt=prompt,\n",
        "    temperature=1.0,\n",
        "    max_tokens=300\n",
        ")\n",
        "message = answer.choices[0].text.strip()"
      ],
      "metadata": {
        "id": "zsP-uzsqtfF-"
      },
      "execution_count": 94,
      "outputs": []
    },
    {
      "cell_type": "code",
      "source": [
        "print(message)"
      ],
      "metadata": {
        "colab": {
          "base_uri": "https://localhost:8080/"
        },
        "id": "KCppnt7ptpsf",
        "outputId": "36ec503f-031d-4929-928a-88ac10d3ec89"
      },
      "execution_count": 95,
      "outputs": [
        {
          "output_type": "stream",
          "name": "stdout",
          "text": [
            "解：y = exp(3x)/3 + Cexp(-2x)\n"
          ]
        }
      ]
    },
    {
      "cell_type": "markdown",
      "source": [
        "### Section3-5. 積分を求めさせる"
      ],
      "metadata": {
        "id": "EnsZrGSet4y-"
      }
    },
    {
      "cell_type": "code",
      "source": [
        "prompt = \"つぎの積分を求めて下さい。 t^2\"\n",
        "answer = openai.Completion.create(\n",
        "    engine=engine,\n",
        "    prompt=prompt,\n",
        "    temperature=1.0,\n",
        "    max_tokens=300\n",
        ")\n",
        "message = answer.choices[0].text.strip()"
      ],
      "metadata": {
        "id": "Siw_rwi6uBpk"
      },
      "execution_count": 96,
      "outputs": []
    },
    {
      "cell_type": "code",
      "source": [
        "print(message)"
      ],
      "metadata": {
        "colab": {
          "base_uri": "https://localhost:8080/"
        },
        "id": "cgLhh_k6uOTg",
        "outputId": "b5964e01-f1e6-449b-dafc-5509deee4f8e"
      },
      "execution_count": 97,
      "outputs": [
        {
          "output_type": "stream",
          "name": "stdout",
          "text": [
            "$\\int t^2 \\,dt  = \\frac {1}{3} t^3 + c$\n"
          ]
        }
      ]
    },
    {
      "cell_type": "markdown",
      "source": [
        "$$\\int t^2 \\,dt  = \\frac {1}{3} t^3 + c$$"
      ],
      "metadata": {
        "id": "WcSohYJKuZZu"
      }
    },
    {
      "cell_type": "code",
      "source": [
        "prompt = \"つぎの定積分の値はいくつですか。 \\int_0^{3.14} sin(x) dx\"\n",
        "answer = openai.Completion.create(\n",
        "    engine=engine,\n",
        "    prompt=prompt,\n",
        "    temperature=1.0,\n",
        "    max_tokens=300\n",
        ")\n",
        "message = answer.choices[0].text.strip()"
      ],
      "metadata": {
        "id": "xvjN_FSLvGPk"
      },
      "execution_count": 113,
      "outputs": []
    },
    {
      "cell_type": "code",
      "source": [
        "print(message)"
      ],
      "metadata": {
        "colab": {
          "base_uri": "https://localhost:8080/"
        },
        "id": "f2pBvLBAvUGM",
        "outputId": "f4f027c8-3b3f-462f-d04c-c75561e59526"
      },
      "execution_count": 114,
      "outputs": [
        {
          "output_type": "stream",
          "name": "stdout",
          "text": [
            "答え：2.00\n"
          ]
        }
      ]
    },
    {
      "cell_type": "code",
      "source": [
        "# scipyのintegrateをインポート\n",
        "from scipy import integrate\n",
        "import numpy as np\n",
        "\n",
        "# 積分する関数の定義(今回はx^2)\n",
        "def f(x):\n",
        "  return np.sin(x)\n",
        "\n",
        "# 上限値と下限値の入力\n",
        "a = int(0)\n",
        "b = np.pi\n",
        "ans,err = integrate.quad(f,a,b)\n",
        "\n",
        "# 積分近似値の表示\n",
        "print(ans)"
      ],
      "metadata": {
        "colab": {
          "base_uri": "https://localhost:8080/"
        },
        "id": "kYROR4YnvtFo",
        "outputId": "ce42a290-abef-4da1-e94c-014b76adddbb"
      },
      "execution_count": 102,
      "outputs": [
        {
          "output_type": "stream",
          "name": "stdout",
          "text": [
            "2.0\n"
          ]
        }
      ]
    },
    {
      "cell_type": "code",
      "source": [
        "prompt = \"つぎの積分方程式を解いて下さい。 f(x) = x + \\int_0^2 f(y) dy\"\n",
        "answer = openai.Completion.create(\n",
        "    engine=engine,\n",
        "    prompt=prompt,\n",
        "    temperature=1.0,\n",
        "    max_tokens=300\n",
        ")\n",
        "message = answer.choices[0].text.strip()"
      ],
      "metadata": {
        "id": "sx1DTOjuvtIA"
      },
      "execution_count": 111,
      "outputs": []
    },
    {
      "cell_type": "code",
      "source": [
        "print(message)"
      ],
      "metadata": {
        "colab": {
          "base_uri": "https://localhost:8080/"
        },
        "id": "axXo69WAwZlG",
        "outputId": "68ba26ba-40bc-4b7e-8354-4ad12014a93f"
      },
      "execution_count": 112,
      "outputs": [
        {
          "output_type": "stream",
          "name": "stdout",
          "text": [
            "解けないという意味の場合、この積分方程式は解けません。積分方程式を解くためには、関数f(x)が一次関数か二次関数など、ある程度の簡単な形になっている必要があります。\n"
          ]
        }
      ]
    },
    {
      "cell_type": "code",
      "source": [
        "prompt = \"つぎの積分方程式を解いて下さい。 f(x) = x + \\int_0^2 f(y) dy\"\n",
        "answer = openai.Completion.create(\n",
        "    engine=engine,\n",
        "    prompt=prompt,\n",
        "    temperature=0.8,\n",
        "    max_tokens=300\n",
        ")\n",
        "message = answer.choices[0].text.strip()"
      ],
      "metadata": {
        "id": "mNzi1cL7wupJ"
      },
      "execution_count": 109,
      "outputs": []
    },
    {
      "cell_type": "code",
      "source": [
        "print(message)"
      ],
      "metadata": {
        "colab": {
          "base_uri": "https://localhost:8080/"
        },
        "id": "oJaODiUJwxY1",
        "outputId": "db7ed6dd-242e-487a-d691-5e318476d642"
      },
      "execution_count": 110,
      "outputs": [
        {
          "output_type": "stream",
          "name": "stdout",
          "text": [
            "解：\n",
            "f(x) - x = \\int_0^2 f(y) dy\n",
            "\n",
            "f(x) = x + c\n",
            "\n",
            "ただしcには積分定数を入れる。\n",
            "\n",
            "よって、\n",
            "f(x) = x + c\n"
          ]
        }
      ]
    },
    {
      "cell_type": "markdown",
      "source": [
        "## Section4. 簡易にまとめると\n",
        "ChatGPTは、数学を解くことはできるけど、必ず正しいとは限らない。  \n",
        "**過信はできない**"
      ],
      "metadata": {
        "id": "4rIT9zqUwdLA"
      }
    }
  ]
}